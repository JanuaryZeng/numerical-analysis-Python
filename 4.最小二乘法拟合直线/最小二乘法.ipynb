{
 "cells": [
  {
   "cell_type": "code",
   "execution_count": 1,
   "id": "235703ac",
   "metadata": {},
   "outputs": [
    {
     "data": {
      "text/plain": [
       "[<matplotlib.lines.Line2D at 0x7f9807cd74f0>]"
      ]
     },
     "execution_count": 1,
     "metadata": {},
     "output_type": "execute_result"
    },
    {
     "name": "stderr",
     "output_type": "stream",
     "text": [
      "findfont: Font family ['sans-serif'] not found. Falling back to DejaVu Sans.\n"
     ]
    },
    {
     "data": {
      "image/png": "[encoded data removed]",
      "text/plain": [
       "<Figure size 432x288 with 1 Axes>"
      ]
     },
     "metadata": {
      "needs_background": "light"
     },
     "output_type": "display_data"
    }
   ],
   "source": [
    "import matplotlib.pyplot as plt\n",
    "from scipy.linalg import solve\n",
    "import numpy as np\n",
    "\n",
    "x = [0.0, 0.2, 0.4, 0.6, 0.8]\n",
    "y = [0.9, 1.9, 2.8, 3.3, 4.2]\n",
    "\n",
    "def getY(x):\n",
    "    global a\n",
    "    global b\n",
    "    return b*np.float64(x) + a\n",
    "#图中可以显示中文\n",
    "plt.rcParams[\"font.sans-serif\"] = [\"SimHei\"]\n",
    "plt.rcParams['axes.unicode_minus'] = False\n",
    "plt.scatter(x, y, marker='o', color = 'r',label =\"数据点\")\n",
    "plt.grid()\n",
    "\n",
    "sum_x_2 = sum(map(lambda x:x**2, x))\n",
    "sum_x = sum(x)\n",
    "sum_y = sum(y)\n",
    "sum_x_y = sum(map(lambda x,y:x*y,x,y))\n",
    "\n",
    "MatA = np.array([[5,sum_x],[sum_x,sum_x_2]])\n",
    "MatB = np.array([sum_y, sum_x_y])\n",
    "MatX = solve(MatA,MatB)\n",
    "global a\n",
    "global b\n",
    "a = MatX[0]\n",
    "b = MatX[1]\n",
    "\n",
    "plt.plot(x,getY(x), color='b',label= \"拟合直线\")\n"
   ]
  },
  {
   "cell_type": "code",
   "execution_count": null,
   "id": "e6b81b93",
   "metadata": {},
   "outputs": [],
   "source": []
  }
 ],
 "metadata": {
  "kernelspec": {
   "display_name": "Python 3",
   "language": "python",
   "name": "python3"
  },
  "language_info": {
   "codemirror_mode": {
    "name": "ipython",
    "version": 3
   },
   "file_extension": ".py",
   "mimetype": "text/x-python",
   "name": "python",
   "nbconvert_exporter": "python",
   "pygments_lexer": "ipython3",
   "version": "3.8.8"
  }
 },
 "nbformat": 4,
 "nbformat_minor": 5
}
